{
 "cells": [
  {
   "cell_type": "code",
   "execution_count": 1,
   "id": "778cb23f",
   "metadata": {},
   "outputs": [],
   "source": [
    "import pandas as pd\n",
    "import numpy as np\n",
    "from datetime import datetime\n",
    "import os\n",
    "from os import listdir\n",
    "from os.path import isfile, join"
   ]
  },
  {
   "cell_type": "code",
   "execution_count": 2,
   "id": "52163dbd",
   "metadata": {},
   "outputs": [],
   "source": [
    "import add_historical_pool_price"
   ]
  },
  {
   "cell_type": "code",
   "execution_count": 3,
   "id": "ba10ab69",
   "metadata": {},
   "outputs": [
    {
     "name": "stderr",
     "output_type": "stream",
     "text": [
      "C:\\Users\\snarayan\\AppData\\Local\\Temp/ipykernel_1272/2078543570.py:1: DtypeWarning: Columns (27) have mixed types.Specify dtype option on import or set low_memory=False.\n",
      "  df = add_historical_pool_price.get_data_for_analysis(False)\n"
     ]
    }
   ],
   "source": [
    "df = add_historical_pool_price.get_data_for_analysis(False)"
   ]
  },
  {
   "cell_type": "code",
   "execution_count": 4,
   "id": "26382d80",
   "metadata": {},
   "outputs": [
    {
     "name": "stdout",
     "output_type": "stream",
     "text": [
      "                  UTC_time  House overall [kW]  Price ($/MWh)  use [kW]  \\\n",
      "0      2016-01-01 05:00:00            0.929350          11.07  0.932833   \n",
      "1      2016-01-01 05:00:01            0.930867          11.07  0.934333   \n",
      "2      2016-01-01 05:00:02            0.928350          11.07  0.931817   \n",
      "3      2016-01-01 05:00:03            1.018567          11.07  1.022050   \n",
      "4      2016-01-01 05:00:04            1.135933          11.07  1.139400   \n",
      "...                    ...                 ...            ...       ...   \n",
      "503905 2016-01-06 09:59:55           -0.338883          19.81  0.015583   \n",
      "503906 2016-01-06 09:59:56           -0.338617          19.81  0.015350   \n",
      "503907 2016-01-06 09:59:57           -0.338133          19.81  0.016283   \n",
      "503908 2016-01-06 09:59:58           -0.340950          19.81  0.013400   \n",
      "503909 2016-01-06 09:59:59           -0.345283          19.81  0.008800   \n",
      "\n",
      "        gen [kW]  \n",
      "0       0.003483  \n",
      "1       0.003467  \n",
      "2       0.003467  \n",
      "3       0.003483  \n",
      "4       0.003467  \n",
      "...          ...  \n",
      "503905  0.354467  \n",
      "503906  0.353967  \n",
      "503907  0.354417  \n",
      "503908  0.354350  \n",
      "503909  0.354083  \n",
      "\n",
      "[503910 rows x 5 columns]\n"
     ]
    }
   ],
   "source": [
    "print(df)"
   ]
  },
  {
   "cell_type": "code",
   "execution_count": null,
   "id": "b7a8bd23",
   "metadata": {},
   "outputs": [],
   "source": []
  }
 ],
 "metadata": {
  "kernelspec": {
   "display_name": "Python 3 (ipykernel)",
   "language": "python",
   "name": "python3"
  },
  "language_info": {
   "codemirror_mode": {
    "name": "ipython",
    "version": 3
   },
   "file_extension": ".py",
   "mimetype": "text/x-python",
   "name": "python",
   "nbconvert_exporter": "python",
   "pygments_lexer": "ipython3",
   "version": "3.9.7"
  }
 },
 "nbformat": 4,
 "nbformat_minor": 5
}
